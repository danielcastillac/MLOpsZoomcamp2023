{
  "cells": [
    {
      "cell_type": "code",
      "execution_count": 1,
      "metadata": {},
      "outputs": [
        {
          "name": "stdout",
          "output_type": "stream",
          "text": [
            "Requirement already satisfied: pandas==1.4.3 in e:\\personal\\cursos\\mlopszoomcamp2023\\homework\\01-intro\\.conda\\lib\\site-packages (1.4.3)\n",
            "Requirement already satisfied: scikit-learn in e:\\personal\\cursos\\mlopszoomcamp2023\\homework\\01-intro\\.conda\\lib\\site-packages (1.2.2)\n",
            "Requirement already satisfied: fastparquet in e:\\personal\\cursos\\mlopszoomcamp2023\\homework\\01-intro\\.conda\\lib\\site-packages (0.8.3)\n",
            "Requirement already satisfied: numpy in e:\\personal\\cursos\\mlopszoomcamp2023\\homework\\01-intro\\.conda\\lib\\site-packages (1.24.3)\n",
            "Requirement already satisfied: pytz>=2020.1 in e:\\personal\\cursos\\mlopszoomcamp2023\\homework\\01-intro\\.conda\\lib\\site-packages (from pandas==1.4.3) (2023.3)\n",
            "Requirement already satisfied: python-dateutil>=2.8.1 in e:\\personal\\cursos\\mlopszoomcamp2023\\homework\\01-intro\\.conda\\lib\\site-packages (from pandas==1.4.3) (2.8.2)\n",
            "Requirement already satisfied: threadpoolctl>=2.0.0 in e:\\personal\\cursos\\mlopszoomcamp2023\\homework\\01-intro\\.conda\\lib\\site-packages (from scikit-learn) (3.1.0)\n",
            "Requirement already satisfied: scipy>=1.3.2 in e:\\personal\\cursos\\mlopszoomcamp2023\\homework\\01-intro\\.conda\\lib\\site-packages (from scikit-learn) (1.10.1)\n",
            "Requirement already satisfied: joblib>=1.1.1 in e:\\personal\\cursos\\mlopszoomcamp2023\\homework\\01-intro\\.conda\\lib\\site-packages (from scikit-learn) (1.2.0)\n",
            "Requirement already satisfied: cramjam>=2.3.0 in e:\\personal\\cursos\\mlopszoomcamp2023\\homework\\01-intro\\.conda\\lib\\site-packages (from fastparquet) (2.6.2)\n",
            "Requirement already satisfied: fsspec in e:\\personal\\cursos\\mlopszoomcamp2023\\homework\\01-intro\\.conda\\lib\\site-packages (from fastparquet) (2023.5.0)\n",
            "Requirement already satisfied: packaging in e:\\personal\\cursos\\mlopszoomcamp2023\\homework\\01-intro\\.conda\\lib\\site-packages (from fastparquet) (23.1)\n",
            "Requirement already satisfied: six>=1.5 in e:\\personal\\cursos\\mlopszoomcamp2023\\homework\\01-intro\\.conda\\lib\\site-packages (from python-dateutil>=2.8.1->pandas==1.4.3) (1.16.0)\n"
          ]
        }
      ],
      "source": [
        "!pip install pandas==1.4.3 scikit-learn fastparquet numpy"
      ]
    },
    {
      "cell_type": "code",
      "execution_count": 2,
      "metadata": {
        "id": "QLfUV8BRgo5D"
      },
      "outputs": [],
      "source": [
        "#import polars as pl\n",
        "import pandas as pd"
      ]
    },
    {
      "cell_type": "code",
      "execution_count": 3,
      "metadata": {
        "id": "VHo0JaSdhTGg"
      },
      "outputs": [],
      "source": [
        "_path = \"/content/drive/MyDrive/MLOpsZoomcamp2023/homework/01-intro/\"\n",
        "\n",
        "df_jan = pd.read_parquet(\"yellow_tripdata_2022-01.parquet\")"
      ]
    },
    {
      "attachments": {},
      "cell_type": "markdown",
      "metadata": {
        "id": "VkWUXKGRoTB6"
      },
      "source": [
        "# **Q1**"
      ]
    },
    {
      "attachments": {},
      "cell_type": "markdown",
      "metadata": {
        "id": "0y34aw3XpNKa"
      },
      "source": [
        "R/ Q1: 19"
      ]
    },
    {
      "attachments": {},
      "cell_type": "markdown",
      "metadata": {
        "id": "ZItpe7v_oaFR"
      },
      "source": [
        "# **Q2**"
      ]
    },
    {
      "cell_type": "code",
      "execution_count": 4,
      "metadata": {
        "colab": {
          "base_uri": "https://localhost:8080/"
        },
        "id": "2VmLtAqWpV19",
        "outputId": "84228cda-0817-4137-acc1-9f1eeb352d63"
      },
      "outputs": [],
      "source": [
        "df_jan['duration'] = df_jan['tpep_dropoff_datetime'] - df_jan['tpep_pickup_datetime']\n",
        "df_jan['duration_min']= (df_jan['duration']/ pd.Timedelta(minutes=1)).astype('int16')"
      ]
    },
    {
      "cell_type": "code",
      "execution_count": 5,
      "metadata": {
        "colab": {
          "base_uri": "https://localhost:8080/"
        },
        "id": "inSokicAscRB",
        "outputId": "9950d58a-ae0c-41e4-c54f-c35211231622"
      },
      "outputs": [
        {
          "data": {
            "text/plain": [
              "46.44541509327847"
            ]
          },
          "execution_count": 5,
          "metadata": {},
          "output_type": "execute_result"
        }
      ],
      "source": [
        "df_jan['duration_min'].std()"
      ]
    },
    {
      "attachments": {},
      "cell_type": "markdown",
      "metadata": {
        "id": "Qr5ctkIel-LM"
      },
      "source": [
        "R/ Q2: 46.45"
      ]
    },
    {
      "attachments": {},
      "cell_type": "markdown",
      "metadata": {
        "id": "xgQ3pD-tmE8m"
      },
      "source": [
        "# **Q3**"
      ]
    },
    {
      "cell_type": "code",
      "execution_count": 6,
      "metadata": {
        "colab": {
          "base_uri": "https://localhost:8080/",
          "height": 661
        },
        "id": "R-D0SnXbmD1X",
        "outputId": "55f375ec-1674-4d66-b9d3-0e98a0fbea58"
      },
      "outputs": [],
      "source": [
        "df_jan = df_jan[(df_jan['duration_min'] >= 1) & (df_jan['duration_min'] <= 60)]\n"
      ]
    },
    {
      "cell_type": "code",
      "execution_count": 7,
      "metadata": {
        "colab": {
          "base_uri": "https://localhost:8080/"
        },
        "id": "Y7q_ZBRinHmI",
        "outputId": "aa831139-773f-47a1-a138-e34259629550"
      },
      "outputs": [
        {
          "name": "stdout",
          "output_type": "stream",
          "text": [
            "0.9835198307095451\n"
          ]
        }
      ],
      "source": [
        "number_filtered = 2423325/2463931\n",
        "print(number_filtered)"
      ]
    },
    {
      "attachments": {},
      "cell_type": "markdown",
      "metadata": {
        "id": "d3fEIj5anXjV"
      },
      "source": [
        "R/ Q3: 0.98"
      ]
    },
    {
      "attachments": {},
      "cell_type": "markdown",
      "metadata": {
        "id": "7glPyzhnnZ9w"
      },
      "source": [
        "# **Q4**"
      ]
    },
    {
      "attachments": {},
      "cell_type": "markdown",
      "metadata": {
        "id": "EN_xDzRbo2Ws"
      },
      "source": [
        "Converting into dict"
      ]
    },
    {
      "cell_type": "code",
      "execution_count": 8,
      "metadata": {
        "colab": {
          "base_uri": "https://localhost:8080/"
        },
        "id": "w2FjI45CndN7",
        "outputId": "38a476c7-a55b-4b5e-d188-462aa015855a"
      },
      "outputs": [],
      "source": [
        "#df_jan_dict = df_jan.to_dict()\n",
        "df_jan_dict = df_jan[['PULocationID', 'DOLocationID']]\n",
        "df_jan_dict = df_jan_dict.astype(str).to_dict(orient='records')"
      ]
    },
    {
      "cell_type": "code",
      "execution_count": 9,
      "metadata": {},
      "outputs": [
        {
          "data": {
            "text/plain": [
              "2"
            ]
          },
          "execution_count": 9,
          "metadata": {},
          "output_type": "execute_result"
        }
      ],
      "source": [
        "len(df_jan_dict[0])"
      ]
    },
    {
      "attachments": {},
      "cell_type": "markdown",
      "metadata": {
        "id": "UUXGQu65o43M"
      },
      "source": [
        "Fit a dictionary vectorizer"
      ]
    },
    {
      "cell_type": "code",
      "execution_count": 10,
      "metadata": {
        "id": "Xa3uzNIxo7oY"
      },
      "outputs": [],
      "source": [
        "from sklearn.feature_extraction import DictVectorizer\n",
        "vec = DictVectorizer()\n",
        "features = vec.fit_transform(df_jan_dict)\n",
        "# features"
      ]
    },
    {
      "attachments": {},
      "cell_type": "markdown",
      "metadata": {
        "id": "Nj-WzNuHqaV9"
      },
      "source": [
        "Get feature matrix"
      ]
    },
    {
      "attachments": {},
      "cell_type": "markdown",
      "metadata": {},
      "source": [
        "*R/ Q4:515*"
      ]
    },
    {
      "attachments": {},
      "cell_type": "markdown",
      "metadata": {},
      "source": [
        "# *Q5*"
      ]
    },
    {
      "cell_type": "code",
      "execution_count": 11,
      "metadata": {},
      "outputs": [
        {
          "data": {
            "text/plain": [
              "<2423325x515 sparse matrix of type '<class 'numpy.float64'>'\n",
              "\twith 0 stored elements in Compressed Sparse Row format>"
            ]
          },
          "execution_count": 11,
          "metadata": {},
          "output_type": "execute_result"
        }
      ],
      "source": [
        "target_ = df_jan[['duration_min']].copy()\n",
        "target_ = target_.to_dict(orient='records')\n",
        "target = vec.transform(target_)\n",
        "target"
      ]
    },
    {
      "cell_type": "code",
      "execution_count": 12,
      "metadata": {},
      "outputs": [
        {
          "data": {
            "text/html": [
              "<style>#sk-container-id-1 {color: black;background-color: white;}#sk-container-id-1 pre{padding: 0;}#sk-container-id-1 div.sk-toggleable {background-color: white;}#sk-container-id-1 label.sk-toggleable__label {cursor: pointer;display: block;width: 100%;margin-bottom: 0;padding: 0.3em;box-sizing: border-box;text-align: center;}#sk-container-id-1 label.sk-toggleable__label-arrow:before {content: \"▸\";float: left;margin-right: 0.25em;color: #696969;}#sk-container-id-1 label.sk-toggleable__label-arrow:hover:before {color: black;}#sk-container-id-1 div.sk-estimator:hover label.sk-toggleable__label-arrow:before {color: black;}#sk-container-id-1 div.sk-toggleable__content {max-height: 0;max-width: 0;overflow: hidden;text-align: left;background-color: #f0f8ff;}#sk-container-id-1 div.sk-toggleable__content pre {margin: 0.2em;color: black;border-radius: 0.25em;background-color: #f0f8ff;}#sk-container-id-1 input.sk-toggleable__control:checked~div.sk-toggleable__content {max-height: 200px;max-width: 100%;overflow: auto;}#sk-container-id-1 input.sk-toggleable__control:checked~label.sk-toggleable__label-arrow:before {content: \"▾\";}#sk-container-id-1 div.sk-estimator input.sk-toggleable__control:checked~label.sk-toggleable__label {background-color: #d4ebff;}#sk-container-id-1 div.sk-label input.sk-toggleable__control:checked~label.sk-toggleable__label {background-color: #d4ebff;}#sk-container-id-1 input.sk-hidden--visually {border: 0;clip: rect(1px 1px 1px 1px);clip: rect(1px, 1px, 1px, 1px);height: 1px;margin: -1px;overflow: hidden;padding: 0;position: absolute;width: 1px;}#sk-container-id-1 div.sk-estimator {font-family: monospace;background-color: #f0f8ff;border: 1px dotted black;border-radius: 0.25em;box-sizing: border-box;margin-bottom: 0.5em;}#sk-container-id-1 div.sk-estimator:hover {background-color: #d4ebff;}#sk-container-id-1 div.sk-parallel-item::after {content: \"\";width: 100%;border-bottom: 1px solid gray;flex-grow: 1;}#sk-container-id-1 div.sk-label:hover label.sk-toggleable__label {background-color: #d4ebff;}#sk-container-id-1 div.sk-serial::before {content: \"\";position: absolute;border-left: 1px solid gray;box-sizing: border-box;top: 0;bottom: 0;left: 50%;z-index: 0;}#sk-container-id-1 div.sk-serial {display: flex;flex-direction: column;align-items: center;background-color: white;padding-right: 0.2em;padding-left: 0.2em;position: relative;}#sk-container-id-1 div.sk-item {position: relative;z-index: 1;}#sk-container-id-1 div.sk-parallel {display: flex;align-items: stretch;justify-content: center;background-color: white;position: relative;}#sk-container-id-1 div.sk-item::before, #sk-container-id-1 div.sk-parallel-item::before {content: \"\";position: absolute;border-left: 1px solid gray;box-sizing: border-box;top: 0;bottom: 0;left: 50%;z-index: -1;}#sk-container-id-1 div.sk-parallel-item {display: flex;flex-direction: column;z-index: 1;position: relative;background-color: white;}#sk-container-id-1 div.sk-parallel-item:first-child::after {align-self: flex-end;width: 50%;}#sk-container-id-1 div.sk-parallel-item:last-child::after {align-self: flex-start;width: 50%;}#sk-container-id-1 div.sk-parallel-item:only-child::after {width: 0;}#sk-container-id-1 div.sk-dashed-wrapped {border: 1px dashed gray;margin: 0 0.4em 0.5em 0.4em;box-sizing: border-box;padding-bottom: 0.4em;background-color: white;}#sk-container-id-1 div.sk-label label {font-family: monospace;font-weight: bold;display: inline-block;line-height: 1.2em;}#sk-container-id-1 div.sk-label-container {text-align: center;}#sk-container-id-1 div.sk-container {/* jupyter's `normalize.less` sets `[hidden] { display: none; }` but bootstrap.min.css set `[hidden] { display: none !important; }` so we also need the `!important` here to be able to override the default hidden behavior on the sphinx rendered scikit-learn.org. See: https://github.com/scikit-learn/scikit-learn/issues/21755 */display: inline-block !important;position: relative;}#sk-container-id-1 div.sk-text-repr-fallback {display: none;}</style><div id=\"sk-container-id-1\" class=\"sk-top-container\"><div class=\"sk-text-repr-fallback\"><pre>LinearRegression()</pre><b>In a Jupyter environment, please rerun this cell to show the HTML representation or trust the notebook. <br />On GitHub, the HTML representation is unable to render, please try loading this page with nbviewer.org.</b></div><div class=\"sk-container\" hidden><div class=\"sk-item\"><div class=\"sk-estimator sk-toggleable\"><input class=\"sk-toggleable__control sk-hidden--visually\" id=\"sk-estimator-id-1\" type=\"checkbox\" checked><label for=\"sk-estimator-id-1\" class=\"sk-toggleable__label sk-toggleable__label-arrow\">LinearRegression</label><div class=\"sk-toggleable__content\"><pre>LinearRegression()</pre></div></div></div></div></div>"
            ],
            "text/plain": [
              "LinearRegression()"
            ]
          },
          "execution_count": 12,
          "metadata": {},
          "output_type": "execute_result"
        }
      ],
      "source": [
        "import numpy as np\n",
        "from sklearn.linear_model import LinearRegression\n",
        "\n",
        "reg = LinearRegression().fit(features, df_jan['duration_min'].values)\n",
        "#reg = LinearRegression().fit(features, target)\n",
        "reg"
      ]
    },
    {
      "attachments": {},
      "cell_type": "markdown",
      "metadata": {},
      "source": [
        "Save and load model"
      ]
    },
    {
      "cell_type": "code",
      "execution_count": 13,
      "metadata": {},
      "outputs": [
        {
          "data": {
            "text/plain": [
              "['model2.joblib']"
            ]
          },
          "execution_count": 13,
          "metadata": {},
          "output_type": "execute_result"
        }
      ],
      "source": [
        "from joblib import dump, load\n",
        "\n",
        "dump(reg, 'model2.joblib') "
      ]
    },
    {
      "cell_type": "code",
      "execution_count": 14,
      "metadata": {},
      "outputs": [],
      "source": [
        "reg = load('model2.joblib') "
      ]
    },
    {
      "cell_type": "code",
      "execution_count": 15,
      "metadata": {},
      "outputs": [
        {
          "data": {
            "text/plain": [
              "<2423325x515 sparse matrix of type '<class 'numpy.float64'>'\n",
              "\twith 4846650 stored elements in Compressed Sparse Row format>"
            ]
          },
          "execution_count": 15,
          "metadata": {},
          "output_type": "execute_result"
        }
      ],
      "source": [
        "from sklearn.metrics import mean_squared_error\n",
        "\n",
        "y_pred = reg.predict(features)\n",
        "y_train = features\n",
        "\n",
        "y_train"
      ]
    },
    {
      "attachments": {},
      "cell_type": "markdown",
      "metadata": {},
      "source": [
        "Error"
      ]
    },
    {
      "cell_type": "code",
      "execution_count": 16,
      "metadata": {},
      "outputs": [
        {
          "name": "stdout",
          "output_type": "stream",
          "text": [
            "7.016720374381209\n"
          ]
        }
      ],
      "source": [
        "error = mean_squared_error(df_jan['duration_min'].values, y_pred, squared=False)\n",
        "print(error)"
      ]
    },
    {
      "attachments": {},
      "cell_type": "markdown",
      "metadata": {},
      "source": [
        "*R/ Q5: 6.99*"
      ]
    },
    {
      "attachments": {},
      "cell_type": "markdown",
      "metadata": {},
      "source": [
        "# *Q6*"
      ]
    },
    {
      "attachments": {},
      "cell_type": "markdown",
      "metadata": {},
      "source": [
        "### Validation dataset"
      ]
    },
    {
      "cell_type": "code",
      "execution_count": 17,
      "metadata": {},
      "outputs": [
        {
          "name": "stdout",
          "output_type": "stream",
          "text": [
            "14.80287201767579\n"
          ]
        }
      ],
      "source": [
        "df_feb = pd.read_parquet(\"yellow_tripdata_2022-02.parquet\")\n",
        "df_feb['duration'] = df_feb['tpep_dropoff_datetime'] - df_feb['tpep_pickup_datetime']\n",
        "df_feb['duration_min']= (df_feb['duration']/ pd.Timedelta(minutes=1)).astype('int16')\n",
        "df_feb = df_feb[(df_feb['duration_min'] >= 1) & (df_feb['duration_min'] <= 60)]\n",
        "\n",
        "\n",
        "df_feb_dict = df_feb[['PULocationID', 'DOLocationID']]\n",
        "df_feb_dict = df_feb_dict.to_dict(orient='records')\n",
        "features_val = vec.transform(df_feb_dict)\n",
        "\n",
        "\n",
        "y_pred_val = reg.predict(features_val)\n",
        "\n",
        "error_val = mean_squared_error(df_feb['duration_min'].values, y_pred_val, squared=False)\n",
        "print(error_val)"
      ]
    },
    {
      "attachments": {},
      "cell_type": "markdown",
      "metadata": {},
      "source": [
        "R/ Q6:14.8"
      ]
    }
  ],
  "metadata": {
    "colab": {
      "provenance": []
    },
    "kernelspec": {
      "display_name": "Python 3",
      "name": "python3"
    },
    "language_info": {
      "codemirror_mode": {
        "name": "ipython",
        "version": 3
      },
      "file_extension": ".py",
      "mimetype": "text/x-python",
      "name": "python",
      "nbconvert_exporter": "python",
      "pygments_lexer": "ipython3",
      "version": "3.10.11"
    }
  },
  "nbformat": 4,
  "nbformat_minor": 0
}
